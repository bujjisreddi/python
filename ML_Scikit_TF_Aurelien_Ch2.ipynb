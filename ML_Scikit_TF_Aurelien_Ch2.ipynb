{
 "cells": [
  {
   "cell_type": "code",
   "execution_count": 5,
   "metadata": {},
   "outputs": [],
   "source": [
    "#Function to Fetch the data\n",
    "\n",
    "import os\n",
    "import tarfile\n",
    "from six.moves import urllib\n",
    "\n",
    "DOWNLOAD_ROOT =\"https://github.com/ageron/handson-ml/tree/master/\"\n",
    "HOUSING_PATH =os.path.join(\"datasets\",\"housing\")\n",
    "HOUSING_URL = DOWNLOAD_ROOT + \"datasets/housing/housing.tgz\""
   ]
  },
  {
   "cell_type": "code",
   "execution_count": 6,
   "metadata": {},
   "outputs": [],
   "source": [
    "#os.makedirs(\"bhuvanatesting\")\n",
    "\n",
    "def fetch_housing_data(housing_url=HOUSING_URL, housing_path=HOUSING_PATH):\n",
    "    if not os.path.isdir(housing_path):  \n",
    "        os.makedirs(housing_path)\n",
    "    print (\"url :  %s\"%housing_url)\n",
    "    print (\"path :  %s\"%housing_path)\n",
    "    ####import pdb;pdb.set_trace() ---Troubleshooting\n",
    "    tgz_path = os.path.join(housing_path,\"housing.tgz\")\n",
    "    urllib.request.urlretrieve(housing_url,tgz_path)\n",
    "    print('tgzpath : %s'%tgz_path)\n",
    "    import pdb;pdb.set_trace()\n",
    "    housing_tgz = tarfile.open(tgz_path)\n",
    "    housing_tgz.extractall(path=housing_path)\n",
    "    housing_tgz.close()"
   ]
  },
  {
   "cell_type": "code",
   "execution_count": 7,
   "metadata": {},
   "outputs": [],
   "source": [
    "# Load the data using Pandas\n",
    "\n",
    "import pandas as pd\n",
    "\n",
    "def load_housing_data(housing_path=HOUSING_PATH):\n",
    "    csv_path = os.path.join(housing_path,\"housing.csv\")\n",
    "    return pd.read_csv(csv_path)"
   ]
  },
  {
   "cell_type": "code",
   "execution_count": null,
   "metadata": {},
   "outputs": [
    {
     "name": "stdout",
     "output_type": "stream",
     "text": [
      "url :  https://github.com/ageron/handson-ml/tree/master/datasets/housing/housing.tgz\n",
      "path :  datasets\\housing\n",
      "tgzpath : datasets\\housing\\housing.tgz\n",
      "> <ipython-input-6-fe5949b88d97>(13)fetch_housing_data()\n",
      "-> housing_tgz = tarfile.open(tgz_path)\n",
      "(Pdb) p tgz_path\n",
      "'datasets\\\\housing\\\\housing.tgz'\n",
      "(Pdb) n\n",
      "tarfile.ReadError: file could not be opened successfully\n",
      "> <ipython-input-6-fe5949b88d97>(13)fetch_housing_data()\n",
      "-> housing_tgz = tarfile.open(tgz_path)\n",
      "(Pdb) tgz_path=housing.tgz\n",
      "*** NameError: name 'housing' is not defined\n",
      "(Pdb) tgz_path='housing.tgz'\n",
      "(Pdb) housing_tgz = tarfile.open(tgz_path\n",
      "*** SyntaxError: unexpected EOF while parsing\n",
      "(Pdb) housing_tgz = tarfile.open(tgz_path)\n",
      "*** FileNotFoundError: [Errno 2] No such file or directory: 'housing.tgz'\n",
      "(Pdb) tgz_path='datasets\\\\housing\\\\housing.tgz'\n",
      "(Pdb) housing_tgz = tarfile.open(tgz_path)\n",
      "*** tarfile.ReadError: file could not be opened successfully\n"
     ]
    }
   ],
   "source": [
    "# View the Data Structure\n",
    "fetch_housing_data()\n",
    "housing = load_housing_data()\n",
    "housing.head()"
   ]
  },
  {
   "cell_type": "code",
   "execution_count": null,
   "metadata": {},
   "outputs": [],
   "source": []
  },
  {
   "cell_type": "code",
   "execution_count": null,
   "metadata": {},
   "outputs": [],
   "source": []
  }
 ],
 "metadata": {
  "kernelspec": {
   "display_name": "Python 3",
   "language": "python",
   "name": "python3"
  },
  "language_info": {
   "codemirror_mode": {
    "name": "ipython",
    "version": 3
   },
   "file_extension": ".py",
   "mimetype": "text/x-python",
   "name": "python",
   "nbconvert_exporter": "python",
   "pygments_lexer": "ipython3",
   "version": "3.7.3"
  }
 },
 "nbformat": 4,
 "nbformat_minor": 2
}
