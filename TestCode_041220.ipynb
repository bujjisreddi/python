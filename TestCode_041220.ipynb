{
 "cells": [
  {
   "cell_type": "code",
   "execution_count": 5,
   "metadata": {},
   "outputs": [
    {
     "name": "stdout",
     "output_type": "stream",
     "text": [
      "I love 1 cakes\n",
      "I love 2 cakes\n",
      "I love 3 cakes\n",
      "I love 4 cakes\n"
     ]
    }
   ],
   "source": [
    "for i in range (1,5):\n",
    "    print ('I love %s cakes'%i)"
   ]
  },
  {
   "cell_type": "code",
   "execution_count": 8,
   "metadata": {},
   "outputs": [
    {
     "name": "stdout",
     "output_type": "stream",
     "text": [
      "what is the name donkey\n",
      "what is the name monkey\n",
      "what is the name funkey\n",
      "what is the name rinkey\n",
      "what is the name minkey\n"
     ]
    }
   ],
   "source": [
    "name_list=['donkey','monkey','funkey','rinkey','minkey'] #list\n",
    "\n",
    "for i in range (0,5):\n",
    "    print ('what is the name %s' %name_list[i])"
   ]
  },
  {
   "cell_type": "code",
   "execution_count": 10,
   "metadata": {},
   "outputs": [
    {
     "name": "stdout",
     "output_type": "stream",
     "text": [
      "what is the name donkey\n",
      "what is the name monkey\n",
      "what is the name funkey\n",
      "what is the name rinkey\n",
      "what is the name minkey\n"
     ]
    }
   ],
   "source": [
    "name_tuple=('donkey','monkey','funkey','rinkey','minkey') #tuple\n",
    "\n",
    "for i in range (0,5):\n",
    "    print ('what is the name %s' %name_tuple[i])"
   ]
  },
  {
   "cell_type": "code",
   "execution_count": 18,
   "metadata": {},
   "outputs": [
    {
     "name": "stdout",
     "output_type": "stream",
     "text": [
      "what is the name donkey\n",
      "what is the name monkey\n",
      "what is the name funkey\n",
      "what is the name rinkey\n",
      "what is the name minkey\n"
     ]
    }
   ],
   "source": [
    "name_dict={0:'donkey',1:'monkey',2:'funkey',3:'rinkey',4:'minkey'} #dictionary\n",
    "\n",
    "for i in range (0,5):\n",
    "    print ('what is the name %s' %name_dict[i])"
   ]
  },
  {
   "cell_type": "code",
   "execution_count": 19,
   "metadata": {},
   "outputs": [
    {
     "data": {
      "text/plain": [
       "[0, 1, 2, 3, 4]"
      ]
     },
     "execution_count": 19,
     "metadata": {},
     "output_type": "execute_result"
    }
   ],
   "source": [
    "list (range (0,5))"
   ]
  },
  {
   "cell_type": "code",
   "execution_count": 24,
   "metadata": {},
   "outputs": [
    {
     "name": "stdout",
     "output_type": "stream",
     "text": [
      "My name is bhuvan lagaan\n"
     ]
    }
   ],
   "source": [
    "def myname (fname,lname):\n",
    "    print ('My name is %s %s'%(fname,lname))\n",
    "    \n",
    "myname('bhuvan','lagaan')"
   ]
  },
  {
   "cell_type": "code",
   "execution_count": 39,
   "metadata": {},
   "outputs": [
    {
     "data": {
      "text/plain": [
       "100"
      ]
     },
     "execution_count": 39,
     "metadata": {},
     "output_type": "execute_result"
    }
   ],
   "source": [
    "def money(earned,spent):\n",
    "    return earned-spent\n",
    "\n",
    "money (200,100)\n",
    "#print (money(400,50))"
   ]
  },
  {
   "cell_type": "code",
   "execution_count": 43,
   "metadata": {},
   "outputs": [
    {
     "name": "stdout",
     "output_type": "stream",
     "text": [
      "Sun Apr 12 14:36:46 2020\n"
     ]
    }
   ],
   "source": [
    "import time\n",
    "\n",
    "print(time.asctime())"
   ]
  },
  {
   "cell_type": "code",
   "execution_count": 2,
   "metadata": {},
   "outputs": [
    {
     "name": "stdout",
     "output_type": "stream",
     "text": [
      "How old are you?\n",
      "10\n",
      "Good Joke\n",
      "How old are you?\n",
      "20\n",
      "Huh?\n",
      "How old are you?\n",
      "30\n",
      "Huh?\n",
      "How old are you?\n",
      "5\n",
      "Huh?\n"
     ]
    }
   ],
   "source": [
    "def silly_joke():\n",
    "    \n",
    "    for i in range (1,5):\n",
    "        print ('How old are you?')\n",
    "        age = int(input())\n",
    "        if age>=10 and age<13:\n",
    "             print('Good Joke')\n",
    "        else:\n",
    "            print('Huh?')\n",
    "silly_joke()"
   ]
  },
  {
   "cell_type": "code",
   "execution_count": 5,
   "metadata": {},
   "outputs": [
    {
     "data": {
      "text/plain": [
       "'10'"
      ]
     },
     "execution_count": 5,
     "metadata": {},
     "output_type": "execute_result"
    }
   ],
   "source": [
    "\"10\""
   ]
  },
  {
   "cell_type": "code",
   "execution_count": 3,
   "metadata": {},
   "outputs": [],
   "source": [
    "import turtle\n",
    "\n",
    "avery=turtle.Pen()\n",
    "jumanji=turtle.Pen()\n",
    "\n",
    "avery.forward(500)\n",
    "jumanji.forward(100)"
   ]
  },
  {
   "cell_type": "raw",
   "metadata": {},
   "source": [
    "word = \"Python\"\n",
    "word[2:3] + word[:]"
   ]
  },
  {
   "cell_type": "code",
   "execution_count": 10,
   "metadata": {},
   "outputs": [
    {
     "data": {
      "text/plain": [
       "6"
      ]
     },
     "execution_count": 10,
     "metadata": {},
     "output_type": "execute_result"
    }
   ],
   "source": [
    "    word =\"Python\"\n",
    "len(word)"
   ]
  },
  {
   "cell_type": "code",
   "execution_count": 16,
   "metadata": {},
   "outputs": [
    {
     "name": "stdout",
     "output_type": "stream",
     "text": [
      "0,1,1,2,3,5,8,"
     ]
    }
   ],
   "source": [
    "# Fibonacci Series\n",
    "\n",
    "a,b=0,1\n",
    "\n",
    "while a<10:\n",
    "    print(a,end=',')\n",
    "    a,b=b,a+b"
   ]
  },
  {
   "cell_type": "code",
   "execution_count": 32,
   "metadata": {},
   "outputs": [
    {
     "name": "stdout",
     "output_type": "stream",
     "text": [
      "cat 3\n",
      "rat 3\n",
      "dog 3\n",
      "frog 4\n"
     ]
    }
   ],
   "source": [
    "animals =['cat','rat','dog','frog']\n",
    "# print(animals)\n",
    "for w in animals:\n",
    "    print(w,len(w))"
   ]
  },
  {
   "cell_type": "code",
   "execution_count": 6,
   "metadata": {},
   "outputs": [
    {
     "name": "stdout",
     "output_type": "stream",
     "text": [
      "0,1,1,2,3,5,8,"
     ]
    }
   ],
   "source": [
    "a, b=0,1\n",
    "\n",
    "while a<10:\n",
    "    print(a,end=',')\n",
    "    a,b=b,a+b"
   ]
  },
  {
   "cell_type": "code",
   "execution_count": 3,
   "metadata": {},
   "outputs": [
    {
     "data": {
      "text/plain": [
       "'ink'"
      ]
     },
     "execution_count": 3,
     "metadata": {},
     "output_type": "execute_result"
    }
   ],
   "source": [
    "mystring=\"tinker\"\n",
    "mystring[1:4]"
   ]
  },
  {
   "cell_type": "code",
   "execution_count": 8,
   "metadata": {},
   "outputs": [
    {
     "name": "stdout",
     "output_type": "stream",
     "text": [
      "Python rules\n"
     ]
    }
   ],
   "source": [
    "print('{}{}'.format('Python',' rules'))"
   ]
  },
  {
   "cell_type": "code",
   "execution_count": null,
   "metadata": {},
   "outputs": [],
   "source": []
  }
 ],
 "metadata": {
  "kernelspec": {
   "display_name": "Python 3",
   "language": "python",
   "name": "python3"
  },
  "language_info": {
   "codemirror_mode": {
    "name": "ipython",
    "version": 3
   },
   "file_extension": ".py",
   "mimetype": "text/x-python",
   "name": "python",
   "nbconvert_exporter": "python",
   "pygments_lexer": "ipython3",
   "version": "3.7.3"
  }
 },
 "nbformat": 4,
 "nbformat_minor": 2
}
